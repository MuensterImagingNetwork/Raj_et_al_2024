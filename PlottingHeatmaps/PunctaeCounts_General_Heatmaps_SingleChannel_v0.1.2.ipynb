{
 "cells": [
  {
   "cell_type": "code",
   "execution_count": null,
   "id": "af34986c",
   "metadata": {},
   "outputs": [],
   "source": [
    "# Imports\n",
    "import csv\n",
    "import os\n",
    "import pandas as pd\n",
    "import numpy as np\n",
    "import matplotlib.pyplot as plt\n",
    "import seaborn as sns\n",
    "import os\n",
    "from fnmatch import fnmatch\n",
    "from pathlib import Path\n",
    "from skimage.measure import label\n",
    "from skimage.measure import regionprops_table, regionprops\n",
    "from skimage.filters import threshold_otsu\n",
    "from skimage.io import imread, imshow\n",
    "from skimage.segmentation import relabel_sequential\n",
    "from skimage.morphology import binary_closing, binary_dilation, remove_small_objects\n",
    "from skimage.transform import resize\n",
    "from sklearn.neighbors import KDTree\n",
    "from scipy.spatial import cKDTree\n",
    "from stardist import fill_label_holes, random_label_cmap\n",
    "import math\n",
    "from matplotlib.cm import ScalarMappable\n",
    "import matplotlib as mpl\n",
    "from mpl_toolkits.axes_grid1 import make_axes_locatable\n",
    "import imageio as iio\n",
    "from tqdm import tqdm\n",
    "import cv2\n",
    "import tifffile as tfile"
   ]
  },
  {
   "cell_type": "code",
   "execution_count": null,
   "id": "c4829def-f2f3-4f15-a3e0-070d5bb22570",
   "metadata": {},
   "outputs": [],
   "source": [
    "np.random.seed(42)\n",
    "lbl_cmap = random_label_cmap()"
   ]
  },
  {
   "cell_type": "code",
   "execution_count": null,
   "id": "941a0d1c",
   "metadata": {},
   "outputs": [],
   "source": [
    "def mask_probability_image(prob_img, mask):\n",
    "    if prob_img.shape != mask.shape:\n",
    "        print(\"Masks have different shape.\")\n",
    "        mask = resize(mask, prob_img.shape, preserve_range=True)\n",
    "    assert prob_img.shape == mask.shape\n",
    "    \n",
    "    return prob_img * mask / 255\n",
    "\n",
    "\n",
    "def threshold_probability_image(prob_img, thresh_C1=0.4):\n",
    "   \n",
    "    return np.stack((prob_img[:, :, :] >= thresh_C1), axis=0)\n",
    "\n",
    "\n",
    "def create_label_imgs(bin_img):\n",
    "    label_imgs = []\n",
    "    ch1 = bin_img[:,  :, :]\n",
    "\n",
    "\n",
    "    \n",
    "    for frame in range(ch1.shape[0]):\n",
    "        label_img = label(ch1[frame, :, :], background=0, connectivity=1)\n",
    "        #label_img = remove_small_objects(label_img, 5)\n",
    "        label_img = fill_label_holes(label_img)\n",
    "        label_imgs.append(label_img)\n",
    "        \n",
    "    lbl = np.array(label_imgs)\n",
    "\n",
    "    label_imgs = []\n",
    "\n",
    "    return lbl\n",
    "\n",
    "\n",
    "def get_label_props(lbl):\n",
    "    label_props = {}\n",
    "    props = {}\n",
    "    for frame in range(lbl.shape[0]):\n",
    "        props_C1 = regionprops_table(lbl[frame, :, :], properties=(\"label\", \"bbox\", \"centroid\", \"area\"), \n",
    "                                     spacing = (0.085, 0.085)) #spacing = (0.085, 0.085)\n",
    "        props = {}\n",
    "        props[\"C1\"] = props_C1\n",
    "        label_props[frame] = props\n",
    "\n",
    "    return label_props"
   ]
  },
  {
   "cell_type": "markdown",
   "id": "b930c68e-e5ee-4288-9e70-dd15f809f6a6",
   "metadata": {},
   "source": [
    "## Fiji Macro creates the following file structure:\n",
    "- Probability Images (C1)\n",
    "- ROI\n",
    "- Masks\n",
    "- Original\n",
    "- Output_FIJI"
   ]
  },
  {
   "cell_type": "markdown",
   "id": "dce927e3",
   "metadata": {},
   "source": [
    "## Please put in your parameters here:"
   ]
  },
  {
   "cell_type": "code",
   "execution_count": null,
   "id": "aafad756",
   "metadata": {},
   "outputs": [],
   "source": [
    "filepath = r\"\" # Filepath where OUTPUT of Fiji macro is saved\n",
    "\n",
    "# Channel 1 \n",
    "thresh_C1 = 0.5 # This is the threshold for the probability maps. \n",
    "filter_minsize_C1 = 0.01 # size filter for punctae in um^2\n",
    "filter_maxsize_C1 = 5 # size filter for punctae in um^2\n",
    "\n",
    "#Saving options. CAREFUL, setting saving options to \"True\" will increase the running duration a lot (2-3 hours for full dataset)!\n",
    "save_segmentation = False\n",
    "save_segmentation_filtered = False\n",
    "save_overlayNN = False"
   ]
  },
  {
   "cell_type": "code",
   "execution_count": null,
   "id": "872478ff",
   "metadata": {},
   "outputs": [],
   "source": []
  },
  {
   "cell_type": "markdown",
   "id": "ca5bac0a",
   "metadata": {},
   "source": [
    "## Start of the analysis:"
   ]
  },
  {
   "cell_type": "code",
   "execution_count": null,
   "id": "f7741e32-ac3a-4e15-9d8a-eaa7a113dc4e",
   "metadata": {},
   "outputs": [],
   "source": [
    "# Load wound position file\n",
    "\n",
    "ROIs = []\n",
    "roi_folder = filepath + \"/FijiOutput\"\n",
    "pattern = \"*ROICoordinates.csv\"\n",
    "\n",
    "for name in os.listdir(roi_folder):\n",
    "    if fnmatch(name, pattern):\n",
    "        #print(name)\n",
    "        rois = pd.read_csv(filepath + \"/FijiOutput/\" + name, delimiter=\",\")\n",
    "        rois[\"Identifier\"] = name.split(\"ROICoordinates.csv\")[0][:40]\n",
    "        rois[\"Circle\"] = np.arange(0, rois.shape[0], 1)\n",
    "        ROIs.append(rois)\n",
    "\n",
    "df_ROIs = pd.concat(ROIs)"
   ]
  },
  {
   "cell_type": "code",
   "execution_count": null,
   "id": "e73c6d2a-9914-427e-a5c6-71b1e84bfce3",
   "metadata": {},
   "outputs": [],
   "source": [
    "# Open all Masks\n",
    "masks = []\n",
    "mask_folder = filepath + \"/FijiOutput\"\n",
    "pattern = \"*_Mask.tiff\"\n",
    "\n",
    "for name in os.listdir(mask_folder):\n",
    "    if fnmatch(name, pattern):\n",
    "        #print(name)\n",
    "        mask = imread(os.path.join(mask_folder, name))\n",
    "        mask = mask[:, :, :]\n",
    "        #mask = np.moveaxis(mask, 0, 1)     \n",
    "        masks.append(mask)"
   ]
  },
  {
   "cell_type": "code",
   "execution_count": null,
   "id": "adbe1b3a",
   "metadata": {},
   "outputs": [],
   "source": [
    "# Open all images\n",
    "imgs, identifiers = [], []\n",
    "probability_folder = filepath + \"/C1\"\n",
    "pattern = \"*.tif\"\n",
    "\n",
    "\n",
    "for name in os.listdir(probability_folder):\n",
    "    if fnmatch(name, pattern):\n",
    "        prob = imread(os.path.join(probability_folder, name))\n",
    "        imgs.append(prob)\n",
    "        identifiers.append(name.split(\"C1-\")[-1][:40]) #.split(\".tif\")[0]"
   ]
  },
  {
   "cell_type": "code",
   "execution_count": null,
   "id": "7ca618a6-18c5-4d63-b69c-be00f4024f6a",
   "metadata": {},
   "outputs": [],
   "source": [
    "## Check if all data is there\n",
    "assert len(masks) == len(imgs)"
   ]
  },
  {
   "cell_type": "markdown",
   "id": "a38318a4-a43d-4465-bb46-40cfdebdaad4",
   "metadata": {},
   "source": [
    "### 2. Data analysis"
   ]
  },
  {
   "cell_type": "code",
   "execution_count": null,
   "id": "6ab57101-d984-4f3b-a805-c022bf202ec3",
   "metadata": {},
   "outputs": [],
   "source": [
    "# Mask and theshold your image to create binary images\n",
    "binary_imgs = []\n",
    "for i in tqdm(range(len(imgs))):\n",
    "    prob_img = mask_probability_image(imgs[i], masks[i])\n",
    "    bin_img = threshold_probability_image(prob_img, thresh_C1)\n",
    "    binary_imgs.append(bin_img)"
   ]
  },
  {
   "cell_type": "code",
   "execution_count": null,
   "id": "abff4075-da41-4a6c-b4ae-9e6ee96262ef",
   "metadata": {},
   "outputs": [],
   "source": [
    "lbl_imgs = []\n",
    "\n",
    "for i in tqdm(range(len(binary_imgs))):\n",
    "    lbl_img = create_label_imgs(binary_imgs[i])\n",
    "    lbl_imgs.append(lbl_img)"
   ]
  },
  {
   "cell_type": "code",
   "execution_count": null,
   "id": "3489879c",
   "metadata": {},
   "outputs": [],
   "source": [
    "#Save segmentation images\n",
    "\n",
    "if save_segmentation:\n",
    "    print(\"Saving label images.\")\n",
    "    for number, lbl_image in tqdm(enumerate(lbl_imgs)):\n",
    "        newpath = filepath + f\"/{identifiers[number]}_Labels\"\n",
    "        if not os.path.exists(newpath):\n",
    "            os.makedirs(newpath)\n",
    "        tiffname = newpath + f\"/_label.tiff\"\n",
    "        tfile.imwrite(tiffname, lbl_image[:, :, :])"
   ]
  },
  {
   "cell_type": "code",
   "execution_count": null,
   "id": "edfa0a61-4c92-4528-8f84-97fb480e2bdf",
   "metadata": {},
   "outputs": [],
   "source": [
    "lbl_props = []\n",
    "\n",
    "for i in tqdm(range(len(lbl_imgs))):\n",
    "    lbl_prop = get_label_props(lbl_imgs[i])\n",
    "    lbl_props.append(lbl_prop)"
   ]
  },
  {
   "cell_type": "code",
   "execution_count": null,
   "id": "016de25e-ec0a-4dbc-b554-d83254995f9b",
   "metadata": {},
   "outputs": [],
   "source": [
    "list_lbl_props_C1 = []\n",
    "   \n",
    "for i in range(len(lbl_props)):\n",
    "    dfs_C1, dfs_C2 = [], []\n",
    "    for frame in range(len(lbl_props[i])):\n",
    "        df_C1_ = pd.DataFrame.from_dict(lbl_props[i][frame][\"C1\"])\n",
    "        df_C1_[\"frame\"]= frame+1\n",
    "        dfs_C1.append(df_C1_)\n",
    "\n",
    "\n",
    "    df_C1 = pd.concat(dfs_C1, axis=0, ignore_index=True)\n",
    "    df_C1[\"Identifier\"] = identifiers[i]\n",
    "    df_C1[\"Wound_coord_X\"] = ROIs[i].iloc[0, 3]\n",
    "    df_C1[\"Wound_coord_Y\"] = ROIs[i].iloc[0, 4]\n",
    "\n",
    "\n",
    "    list_lbl_props_C1.append(df_C1)\n",
    "\n",
    "\n",
    "df_lbl_props_C1 = pd.concat(list_lbl_props_C1, axis=0, ignore_index=True)"
   ]
  },
  {
   "cell_type": "code",
   "execution_count": null,
   "id": "abf31397",
   "metadata": {},
   "outputs": [],
   "source": [
    "df_lbl_props_C1.to_csv(filepath+\"\\\\\"+\"C1_punctaedata.csv\")"
   ]
  },
  {
   "cell_type": "code",
   "execution_count": null,
   "id": "a7646cd6",
   "metadata": {},
   "outputs": [],
   "source": [
    "# Plot punctae sizes - Histogram - Channel 1\n",
    "plt.figure(figsize=(12, 6))\n",
    "g = sns.displot(df_lbl_props_C1, x=\"area\", row=\"Identifier\", height=4)\n",
    "g.refline(x=filter_minsize_C1, color=\"red\")\n",
    "g.refline(x=filter_maxsize_C1, color=\"red\")\n",
    "g.set(xlim=(0,1))\n",
    "g.set(ylim=(0, 500))"
   ]
  },
  {
   "cell_type": "code",
   "execution_count": null,
   "id": "e9d73fc6",
   "metadata": {},
   "outputs": [],
   "source": [
    "df_lbl_props_C1_backup = df_lbl_props_C1.copy()"
   ]
  },
  {
   "cell_type": "markdown",
   "id": "11a6f2d3-534a-4f3f-a8d0-7f7f3c2e8b4b",
   "metadata": {},
   "source": [
    "### Calculation of wound distance and circle number"
   ]
  },
  {
   "cell_type": "code",
   "execution_count": null,
   "id": "a3dca149",
   "metadata": {},
   "outputs": [],
   "source": [
    "assert df_lbl_props_C1.Identifier.iloc[0] == df_ROIs.Identifier.iloc[0]"
   ]
  },
  {
   "cell_type": "code",
   "execution_count": null,
   "id": "44469363-232c-4784-a80c-562888e17343",
   "metadata": {},
   "outputs": [],
   "source": [
    "df_lbl_props_C1[\"Distance\"] = (np.sqrt((df_lbl_props_C1[\"centroid-1\"]-df_lbl_props_C1[\"Wound_coord_X\"])**2 + (df_lbl_props_C1[\"centroid-0\"]-df_lbl_props_C1[\"Wound_coord_Y\"])**2))\n",
    "df_lbl_props_C1[\"X_Norm\"] = abs(df_lbl_props_C1[\"centroid-1\"]-df_lbl_props_C1[\"Wound_coord_X\"])\n",
    "df_lbl_props_C1[\"Y_Norm\"] = abs(df_lbl_props_C1[\"centroid-0\"]-df_lbl_props_C1[\"Wound_coord_Y\"])"
   ]
  },
  {
   "cell_type": "code",
   "execution_count": null,
   "id": "6655cc96-1e96-4b3e-b3cb-27ee241e4b27",
   "metadata": {},
   "outputs": [],
   "source": [
    "# Circles\n",
    "circle_bins = [0, 0.85, 10.85, 20.85, 30.85, 40.85, 50.85, 60.85, 70.85]#[0, 117, 234, 351, 468, 585, 702] # Check how big circles were in original paper\n",
    "circles = list(range(0,len(circle_bins)-1))\n",
    "df_lbl_props_C1[\"Circle\"] = pd.cut(df_lbl_props_C1[\"Distance\"], bins = circle_bins, include_lowest=True, labels=circles)"
   ]
  },
  {
   "cell_type": "code",
   "execution_count": null,
   "id": "26a1963e-9814-4721-a78b-9359228f6cee",
   "metadata": {},
   "outputs": [],
   "source": [
    "df_lbl_props_C1.dropna(inplace=True)"
   ]
  },
  {
   "cell_type": "code",
   "execution_count": null,
   "id": "48a16b46-901d-494d-aee8-02f68ed298e4",
   "metadata": {},
   "outputs": [],
   "source": [
    "df_lbl_props_C1 = pd.merge(df_lbl_props_C1, df_ROIs.loc[:, [\"Area\", \"Identifier\", \"Circle\"]], left_on= [\"Identifier\", \"Circle\"], right_on=[\"Identifier\", \"Circle\"])"
   ]
  },
  {
   "cell_type": "code",
   "execution_count": null,
   "id": "65eb1067",
   "metadata": {},
   "outputs": [],
   "source": [
    "#Filtering of punctae with size filter\n",
    "df_lbl_props_C1 = df_lbl_props_C1[df_lbl_props_C1[\"area\"] > filter_minsize_C1]\n",
    "df_lbl_props_C1 = df_lbl_props_C1[df_lbl_props_C1[\"area\"] < filter_maxsize_C1]"
   ]
  },
  {
   "cell_type": "code",
   "execution_count": null,
   "id": "b66a4283",
   "metadata": {},
   "outputs": [],
   "source": [
    "if save_segmentation_filtered:\n",
    "    print(\"Creating filtered label images.\")\n",
    "\n",
    "\n",
    "    lbl_imgs_filtered = []\n",
    "\n",
    "    for i in tqdm(range(len(identifiers))):\n",
    "\n",
    "        mask_array = np.full(lbl_imgs[i].shape, False)\n",
    "        for frame in df_lbl_props_C1[(df_lbl_props_C1.Identifier == identifiers[i])].frame:\n",
    "            list_to_keep = list(df_lbl_props_C1[((df_lbl_props_C1.Identifier == identifiers[i]) & (df_lbl_props_C1.frame == frame))].label)\n",
    "            mask = np.isin(lbl_imgs[i][0, frame-1, :, :], list_to_keep)\n",
    "            mask_array[frame-1, :, :] = mask\n",
    "\n",
    "    \n",
    "        result_image = np.copy(lbl_imgs[i])\n",
    "        result_image[~mask_array] = 0\n",
    "        lbl_imgs_filtered.append(result_image)"
   ]
  },
  {
   "cell_type": "code",
   "execution_count": null,
   "id": "205b3085",
   "metadata": {},
   "outputs": [],
   "source": [
    "if save_segmentation_filtered:\n",
    "    print(\"Creating filtered label images.\")\n",
    "\n",
    "    #Save filtered images\n",
    "    for number, lbl_image in tqdm(enumerate(lbl_imgs_filtered)):\n",
    "        newpath = filepath + f\"/{identifiers[number]}_Labels_filtered\"\n",
    "        if not os.path.exists(newpath):\n",
    "            os.makedirs(newpath)\n",
    "        tiffname = newpath + f\"/filtered_label.tiff\"\n",
    "        tfile.imwrite(tiffname, lbl_image[:, :, :, :])"
   ]
  },
  {
   "cell_type": "code",
   "execution_count": null,
   "id": "754f31c1",
   "metadata": {},
   "outputs": [],
   "source": [
    "fig, axes = plt.subplots(nrows=1, ncols=1, figsize=(20,20), sharex=True)\n",
    "plt.tight_layout()\n",
    "sns.countplot(data=df_lbl_props_C1, x=\"Identifier\", width=0.8, ax=axes).set_title(\"Channel 1\")\n",
    "                         \n",
    "plt.xticks(rotation=90)\n",
    "plt.show()"
   ]
  },
  {
   "cell_type": "code",
   "execution_count": null,
   "id": "d77da493",
   "metadata": {},
   "outputs": [],
   "source": [
    "df_lbl_props_C1.groupby(\"Identifier\").label.count()"
   ]
  },
  {
   "cell_type": "code",
   "execution_count": null,
   "id": "bedcc204-e742-4610-87fa-740f19c61f1f",
   "metadata": {},
   "outputs": [],
   "source": [
    "# Backup of tables\n",
    "df_C1 = df_lbl_props_C1.copy()"
   ]
  },
  {
   "cell_type": "code",
   "execution_count": null,
   "id": "70dd368c",
   "metadata": {},
   "outputs": [],
   "source": [
    "df_pivot_C1 = df_C1.pivot_table(index=[\"Identifier\", \"Circle\"], columns=\"frame\", values=\"label\", aggfunc='count', dropna=False)"
   ]
  },
  {
   "cell_type": "code",
   "execution_count": null,
   "id": "526e19a8",
   "metadata": {},
   "outputs": [],
   "source": [
    "df_pivot_C1.loc[:, 1].fillna(value=1, inplace=True, axis=0)    \n",
    "df_pivot_C1.fillna(value=0, inplace=True, axis=0)"
   ]
  },
  {
   "cell_type": "code",
   "execution_count": null,
   "id": "ed49dee6-391f-4c24-9654-1a76b4ce8608",
   "metadata": {},
   "outputs": [],
   "source": [
    "df_pivot_C1_area = df_C1.pivot_table(index=[\"Identifier\", \"Circle\"], columns=\"frame\", values=\"Area\", aggfunc='mean', dropna=False)"
   ]
  },
  {
   "cell_type": "code",
   "execution_count": null,
   "id": "d08e4e40",
   "metadata": {},
   "outputs": [],
   "source": [
    "fill_value = 2.283\n",
    "df_pivot_C1_area.loc[(slice(None), 0), :] = df_pivot_C1_area.loc[(slice(None), 0), :].fillna(fill_value)"
   ]
  },
  {
   "cell_type": "code",
   "execution_count": null,
   "id": "9e35be1f",
   "metadata": {},
   "outputs": [],
   "source": [
    "df_pivot_C1_area.fillna(method=\"bfill\", inplace=True, axis=1)\n",
    "df_pivot_C1_area.fillna(method=\"ffill\", inplace=True, axis=1)"
   ]
  },
  {
   "cell_type": "code",
   "execution_count": null,
   "id": "793c5029",
   "metadata": {},
   "outputs": [],
   "source": [
    "mean_frame_values_C1 = df_pivot_C1.groupby(level=\"Circle\", axis=0).mean()"
   ]
  },
  {
   "cell_type": "code",
   "execution_count": null,
   "id": "ce2e40c7-007d-459d-af00-bdefc717020b",
   "metadata": {},
   "outputs": [],
   "source": [
    "# Normalization to circle areas\n",
    "df_pivot_C1_norm = df_pivot_C1/df_pivot_C1_area\n",
    "\n",
    "mean_frame_values_C1_norm = df_pivot_C1_norm.groupby(level=\"Circle\", axis=0).mean()\n",
    "\n",
    "# Normalilzation to first frame\n",
    "df_pivot_C1_norm_2 = df_pivot_C1_norm.div(df_pivot_C1_norm.iloc[:, 0], axis=0)\n"
   ]
  },
  {
   "cell_type": "code",
   "execution_count": null,
   "id": "7f4bdd54",
   "metadata": {},
   "outputs": [],
   "source": [
    "mean_frame_values_C1_norm_2 = df_pivot_C1_norm_2.groupby(level=\"Circle\", axis=0).mean()"
   ]
  },
  {
   "cell_type": "code",
   "execution_count": null,
   "id": "41c1fc0e",
   "metadata": {},
   "outputs": [],
   "source": [
    "# Plotting\n",
    "# We start at 0, if you want to plot frame 2 , use 1\n",
    "min_frame = 0\n",
    "max_frame = 99\n",
    "colormap = \"inferno\" # Other options: \"viridis\", \"inferno\", \"plasma\", \"magma\", \"cividis\"\n",
    "xlabel = \"Time\"\n",
    "ylabel = \"Circle\"\n",
    "# https://matplotlib.org/stable/tutorials/colors/colormaps.html\n",
    "\n",
    "# cbar=False\n",
    "fig, axes = plt.subplots(nrows=2, ncols=1, figsize=(9,5), gridspec_kw={'height_ratios': [0.8, 0.1]} ) \n",
    "\n",
    "sns.heatmap(mean_frame_values_C1.iloc[1:, min_frame:max_frame], vmin=0, vmax=math.ceil(mean_frame_values_C1.max().max()), cmap=colormap, ax=axes[0]).set_title(\"Clathrin\")\n",
    "sns.heatmap(mean_frame_values_C1.iloc[1:, min_frame:max_frame].mean().to_numpy()[np.newaxis, :], vmin=0, cmap=colormap, ax=axes[1]).set_title(\"Clathrin_WholeCell\")\n",
    "\n",
    "axes[0].set_xlabel(xlabel)\n",
    "axes[1].set_xlabel(xlabel)\n",
    "axes[0].set_ylabel(ylabel)\n",
    "\n",
    "fig.suptitle(\"Mean Particle Counts/um^2\")\n",
    "plt.tight_layout(h_pad=5)\n",
    "\n",
    "# Saving figure\n",
    "plt.savefig(filepath+\"\\\\\"+\"ParcticleCounts_NotNormalized.tiff\", dpi=600, transparent=True, bbox_inches=\"tight\", format=\"tiff\")"
   ]
  },
  {
   "cell_type": "code",
   "execution_count": null,
   "id": "17eee9c5",
   "metadata": {},
   "outputs": [],
   "source": [
    "# Plotting\n",
    "# We start at 0, if you want to plot frame 2 , use 1\n",
    "min_frame = 0\n",
    "max_frame = 99\n",
    "colormap = \"inferno\" # Other options: \"viridis\", \"inferno\", \"plasma\", \"magma\", \"cividis\"\n",
    "xlabel = \"Time\"\n",
    "ylabel = \"Circle\"\n",
    "legendlabel = \"Normalized events of TfR and Amph1 after wounding\"\n",
    "# https://matplotlib.org/stable/tutorials/colors/colormaps.html\n",
    "\n",
    "# cbar=False\n",
    "fig, axes = plt.subplots(nrows=2, ncols=1, figsize=(9,5), gridspec_kw={'height_ratios': [0.8, 0.1]} ) \n",
    "\n",
    "sns.heatmap(mean_frame_values_C1_norm.iloc[1:, min_frame:max_frame], vmin=0, cmap=colormap, ax=axes[0]).set_title(\"Clathrin\")\n",
    "sns.heatmap(mean_frame_values_C1_norm.iloc[1:, min_frame:max_frame].mean().to_numpy()[np.newaxis, :], vmin=0, cmap=colormap, ax=axes[1]).set_title(\"Clathrin_WholeCell\")\n",
    "\n",
    "axes[0].set_xlabel(xlabel)\n",
    "axes[1].set_xlabel(xlabel)\n",
    "axes[0].set_ylabel(ylabel)\n",
    "\n",
    "fig.suptitle(\"Mean Particle Counts/um^2\")\n",
    "plt.tight_layout(h_pad=5)\n",
    "\n",
    "# Saving figure\n",
    "plt.savefig(filepath+\"\\\\\"+\"ParcticleCounts_Normalized_Circle.tiff\", dpi=600, transparent=True, bbox_inches=\"tight\", format=\"tiff\")"
   ]
  },
  {
   "cell_type": "code",
   "execution_count": null,
   "id": "bdedc675",
   "metadata": {
    "scrolled": true
   },
   "outputs": [],
   "source": [
    "# Plotting\n",
    "# We start at 0, if you want to plot frame 2 , use 1\n",
    "min_frame = 0\n",
    "max_frame = 99\n",
    "colormap = \"inferno\" # Other options: \"viridis\", \"inferno\", \"plasma\", \"magma\", \"cividis\"\n",
    "xlabel = \"Time\"\n",
    "ylabel = \"Circle\"\n",
    "legendlabel = \"Normalized events of TfR and Amph1 after wounding\"\n",
    "# https://matplotlib.org/stable/tutorials/colors/colormaps.html\n",
    "\n",
    "# cbar=False\n",
    "fig, axes = plt.subplots(nrows=2, ncols=1, figsize=(9,5), gridspec_kw={'height_ratios': [0.8, 0.1]} ) \n",
    "\n",
    "sns.heatmap(mean_frame_values_C1_norm_2.iloc[1:, min_frame:max_frame], vmin=0, cmap=colormap, ax=axes[0]).set_title(\"Clathrin\")\n",
    "sns.heatmap(mean_frame_values_C1_norm_2.iloc[1:, min_frame:max_frame].mean().to_numpy()[np.newaxis, :], vmin=0, cmap=colormap, ax=axes[1]).set_title(\"Clathrin_WholeCell\")\n",
    "\n",
    "axes[0].set_xlabel(xlabel)\n",
    "axes[1].set_xlabel(xlabel)\n",
    "axes[0].set_ylabel(ylabel)\n",
    "\n",
    "fig.suptitle(\"Mean Particle Counts/um^2\")\n",
    "plt.tight_layout(h_pad=5)\n",
    "\n",
    "# Saving figure\n",
    "plt.savefig(filepath+\"\\\\\"+\"ParcticleCounts_Normalized_Area_Frame.tiff\", dpi=600, transparent=True, bbox_inches=\"tight\", format=\"tiff\")"
   ]
  }
 ],
 "metadata": {
  "kernelspec": {
   "display_name": "Python (Calculations)",
   "language": "python",
   "name": "calculations"
  },
  "language_info": {
   "codemirror_mode": {
    "name": "ipython",
    "version": 3
   },
   "file_extension": ".py",
   "mimetype": "text/x-python",
   "name": "python",
   "nbconvert_exporter": "python",
   "pygments_lexer": "ipython3",
   "version": "3.8.18"
  }
 },
 "nbformat": 4,
 "nbformat_minor": 5
}
