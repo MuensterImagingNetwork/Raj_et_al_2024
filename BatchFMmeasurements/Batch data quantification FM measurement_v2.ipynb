{
 "cells": [
  {
   "cell_type": "code",
   "execution_count": 3,
   "id": "42827f2a",
   "metadata": {},
   "outputs": [],
   "source": [
    "import csv\n",
    "import os\n",
    "import pandas as pd\n",
    "import numpy as np\n",
    "import matplotlib.pyplot as plt\n",
    "import seaborn as sns\n",
    "import os\n",
    "from fnmatch import fnmatch"
   ]
  },
  {
   "cell_type": "code",
   "execution_count": 19,
   "id": "461d53fc",
   "metadata": {
    "scrolled": true
   },
   "outputs": [],
   "source": [
    "filepath = r\"M:\\@MiN\\Sarah\\Projects\\Nikita_WoundRepair\\3 - Batch Macro\\Excel sheet data batch\"\n",
    "\n",
    "dir_list = os.listdir(filepath)"
   ]
  },
  {
   "cell_type": "markdown",
   "id": "33c0cc73",
   "metadata": {},
   "source": [
    "### Calculate BG-corrected intensity"
   ]
  },
  {
   "cell_type": "code",
   "execution_count": 53,
   "id": "a3c164c7",
   "metadata": {
    "scrolled": true
   },
   "outputs": [
    {
     "name": "stdout",
     "output_type": "stream",
     "text": [
      "\n",
      "\n",
      "\n",
      "\n",
      "M:\\@MiN\\Sarah\\Projects\\Nikita_WoundRepair\\3 - Batch Macro\\Excel sheet data batch\\20201217_siCLTC I\\siCLTCG qtfctn_I\\siCLTCG #1+2 250nM\\Results processed.\n",
      "\n",
      "M:\\@MiN\\Sarah\\Projects\\Nikita_WoundRepair\\3 - Batch Macro\\Excel sheet data batch\\20201217_siCLTC I\\siCLTCG qtfctn_I\\siCtrl\\Ca results processed.\n",
      "M:\\@MiN\\Sarah\\Projects\\Nikita_WoundRepair\\3 - Batch Macro\\Excel sheet data batch\\20201217_siCLTC I\\siCLTCG qtfctn_I\\siCtrl\\EGTA results processed.\n",
      "\n",
      "\n",
      "\n",
      "M:\\@MiN\\Sarah\\Projects\\Nikita_WoundRepair\\3 - Batch Macro\\Excel sheet data batch\\20220331_siCLTC QUANT II\\siCLTC #1+2 200nM\\Results processed.\n",
      "\n",
      "M:\\@MiN\\Sarah\\Projects\\Nikita_WoundRepair\\3 - Batch Macro\\Excel sheet data batch\\20220331_siCLTC QUANT II\\siControl\\Ca results processed.\n",
      "M:\\@MiN\\Sarah\\Projects\\Nikita_WoundRepair\\3 - Batch Macro\\Excel sheet data batch\\20220331_siCLTC QUANT II\\siControl\\EGTA results processed.\n",
      "\n",
      "\n",
      "\n",
      "M:\\@MiN\\Sarah\\Projects\\Nikita_WoundRepair\\3 - Batch Macro\\Excel sheet data batch\\20220407_siCLTC QUANT III\\siCLTC #1+2 250\\Results processed.\n",
      "\n",
      "M:\\@MiN\\Sarah\\Projects\\Nikita_WoundRepair\\3 - Batch Macro\\Excel sheet data batch\\20220407_siCLTC QUANT III\\siControl\\Ca results processed.\n",
      "M:\\@MiN\\Sarah\\Projects\\Nikita_WoundRepair\\3 - Batch Macro\\Excel sheet data batch\\20220407_siCLTC QUANT III\\siControl\\EGTA results processed.\n",
      "\n",
      "\n",
      "\n",
      "\n",
      "M:\\@MiN\\Sarah\\Projects\\Nikita_WoundRepair\\3 - Batch Macro\\Excel sheet data batch\\20220407_siCLTC QUANT III_Sarah macro testing\\si\\siCLTC #1+2 250\\Results processed.\n",
      "\n",
      "M:\\@MiN\\Sarah\\Projects\\Nikita_WoundRepair\\3 - Batch Macro\\Excel sheet data batch\\20220407_siCLTC QUANT III_Sarah macro testing\\si\\siControl\\Results processed.\n",
      "\n",
      "M:\\@MiN\\Sarah\\Projects\\Nikita_WoundRepair\\3 - Batch Macro\\Excel sheet data batch\\20220407_siCLTC QUANT III_Sarah macro testing\\siCLTC #1+2 250\\Results processed.\n",
      "\n",
      "M:\\@MiN\\Sarah\\Projects\\Nikita_WoundRepair\\3 - Batch Macro\\Excel sheet data batch\\20220407_siCLTC QUANT III_Sarah macro testing\\siControl\\Results processed.\n",
      "\n",
      "\n",
      "\n",
      "M:\\@MiN\\Sarah\\Projects\\Nikita_WoundRepair\\3 - Batch Macro\\Excel sheet data batch\\20220412_Dyna I\\Dynasore\\AMph1-GFP\\Control processed.\n",
      "M:\\@MiN\\Sarah\\Projects\\Nikita_WoundRepair\\3 - Batch Macro\\Excel sheet data batch\\20220412_Dyna I\\Dynasore\\AMph1-GFP\\Dyn processed.\n",
      "\n",
      "\n",
      "M:\\@MiN\\Sarah\\Projects\\Nikita_WoundRepair\\3 - Batch Macro\\Excel sheet data batch\\20220412_Dyna I\\Dynasore\\TfR-SEP\\DMSO processed.\n",
      "M:\\@MiN\\Sarah\\Projects\\Nikita_WoundRepair\\3 - Batch Macro\\Excel sheet data batch\\20220412_Dyna I\\Dynasore\\TfR-SEP\\Dyn processed.\n",
      "\n",
      "Done\n"
     ]
    }
   ],
   "source": [
    "root = filepath\n",
    "pattern_COI = \"*COI*.csv\"\n",
    "\n",
    "df_COI = pd.DataFrame()\n",
    "df_BG = pd.DataFrame()\n",
    "df_merged = pd.DataFrame()\n",
    "df_summary = pd.DataFrame()\n",
    "\n",
    "for path, subdirs, files in os.walk(root):\n",
    "    \n",
    "    for name in files:\n",
    "\n",
    "        \n",
    "        if fnmatch(name, pattern_COI):\n",
    "\n",
    "            df_COI_ = pd.read_csv(os.path.join(path, name))\n",
    "            df_COI_[\"Frame\"] = df_COI_.index\n",
    "            df_COI_[\"Name\"] = name.rstrip(\".csv\").lstrip(\"Values COI \")\n",
    "            df_COI_[\"ID\"] = df_COI_.X.astype(str) + \"__\" + df_COI_.Name           \n",
    "            df_COI = pd.concat([df_COI, df_COI_])\n",
    "\n",
    "            df_BG_ = pd.read_csv(os.path.join(path, name.replace(\"COI\", \"BG\")))\n",
    "            df_BG_[\"Name\"] = name.rstrip(\".csv\").lstrip(\"Values COI \")\n",
    "            df_BG_[\"ID\"] = df_BG_.X.astype(str) + \"__\" + df_BG_.Name\n",
    "            df_BG = pd.concat([df_BG, df_BG_])\n",
    "\n",
    "    \n",
    "    df_COI = df_COI.reindex()\n",
    "    df_BG = df_BG.reindex()\n",
    "\n",
    "    try:\n",
    "        df_merged = df_COI.merge(df_BG[[\"Y\", \"ID\"]], on=\"ID\")\n",
    "        df_merged.drop(\"ID\", axis=1, inplace=True)\n",
    "        df_merged.rename(columns={\"X\": \"Time\", \"Y_x\": \"Intensity_COI\", \"Y_y\": \"Intensity_BG\"}, inplace=True)\n",
    "        new_colorder = [\"Time\", \"Intensity_COI\", \"Intensity_BG\", \"Name\", \"Frame\"]\n",
    "        df_merged = df_merged.reindex(columns=new_colorder)\n",
    "        print(f\"{path} processed.\")\n",
    "\n",
    "    except:\n",
    "        print()\n",
    "    \n",
    "    #Insertion of Measurements\n",
    "    \n",
    "    if not df_merged.empty:\n",
    "        df_merged[\"Intensity_(BGcorrected)\"] = df_merged.Intensity_COI - df_merged.Intensity_BG\n",
    "        df_merged.to_csv(path + \"_CorrectedIntensity.csv\")\n",
    "        \n",
    "        #df_summary[\"Name\"] = path\n",
    "        df_summary[\"Mean\"] = df_merged.groupby(\"Frame\")[\"Intensity_(BGcorrected)\"].mean()\n",
    "        df_summary[\"StDev\"] = df_merged.groupby(\"Frame\")[\"Intensity_(BGcorrected)\"].std()\n",
    "        df_summary[\"Median\"] = df_merged.groupby(\"Frame\")[\"Intensity_(BGcorrected)\"].median()\n",
    "        df_summary[\"n\"] = df_merged.groupby(\"Frame\")[\"Intensity_(BGcorrected)\"].count()\n",
    "        df_summary.to_csv(path + \"_Summary.csv\")\n",
    "        \n",
    "    df_COI = pd.DataFrame()\n",
    "    df_BG = pd.DataFrame()\n",
    "    df_merged = pd.DataFrame()\n",
    "\n",
    "print(\"Done\")"
   ]
  },
  {
   "cell_type": "code",
   "execution_count": null,
   "id": "9063582c",
   "metadata": {},
   "outputs": [],
   "source": []
  }
 ],
 "metadata": {
  "kernelspec": {
   "display_name": "Python 3 (ipykernel)",
   "language": "python",
   "name": "python3"
  },
  "language_info": {
   "codemirror_mode": {
    "name": "ipython",
    "version": 3
   },
   "file_extension": ".py",
   "mimetype": "text/x-python",
   "name": "python",
   "nbconvert_exporter": "python",
   "pygments_lexer": "ipython3",
   "version": "3.9.12"
  }
 },
 "nbformat": 4,
 "nbformat_minor": 5
}
