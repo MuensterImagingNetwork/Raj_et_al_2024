{
 "cells": [
  {
   "cell_type": "code",
   "execution_count": null,
   "id": "af34986c",
   "metadata": {},
   "outputs": [],
   "source": [
    "# Imports\n",
    "import csv\n",
    "import os\n",
    "import pandas as pd\n",
    "import numpy as np\n",
    "import matplotlib.pyplot as plt\n",
    "import seaborn as sns\n",
    "import os\n",
    "from fnmatch import fnmatch\n",
    "from pathlib import Path\n",
    "from skimage.measure import label\n",
    "from skimage.measure import regionprops_table, regionprops\n",
    "from skimage.filters import threshold_otsu\n",
    "from skimage.io import imread, imshow\n",
    "from skimage.segmentation import relabel_sequential\n",
    "from skimage.morphology import binary_closing, binary_dilation, remove_small_objects\n",
    "from skimage.transform import resize\n",
    "from sklearn.neighbors import KDTree\n",
    "from scipy.spatial import cKDTree\n",
    "from stardist import fill_label_holes, random_label_cmap\n",
    "import math\n",
    "from matplotlib.cm import ScalarMappable\n",
    "import matplotlib as mpl\n",
    "from mpl_toolkits.axes_grid1 import make_axes_locatable\n",
    "import imageio as iio\n",
    "from tqdm import tqdm\n",
    "import cv2\n",
    "import tifffile as tfile"
   ]
  },
  {
   "cell_type": "code",
   "execution_count": null,
   "id": "c4829def-f2f3-4f15-a3e0-070d5bb22570",
   "metadata": {},
   "outputs": [],
   "source": [
    "np.random.seed(42)\n",
    "lbl_cmap = random_label_cmap()"
   ]
  },
  {
   "cell_type": "markdown",
   "id": "b930c68e-e5ee-4288-9e70-dd15f809f6a6",
   "metadata": {},
   "source": [
    "## Fiji Macro creates the following file structure:\n",
    "- C1\n",
    "- C2\n",
    "- ROI\n",
    "- Masks\n",
    "- Original\n",
    "- Output_FIJI"
   ]
  },
  {
   "cell_type": "markdown",
   "id": "dce927e3",
   "metadata": {},
   "source": [
    "## Please put in your parameters here:"
   ]
  },
  {
   "cell_type": "code",
   "execution_count": null,
   "id": "aafad756",
   "metadata": {},
   "outputs": [],
   "source": [
    "filepath = r\"\" # Filepath where OUTPUT of macro is saved\n",
    "\n",
    "# Channel 1 \n",
    "thresh_C1 = 0.5 # This is the threshold for the probability maps.\n",
    "filter_minsize_C1 = 0.01 # size filter for punctae in um^2\n",
    "filter_maxsize_C1 = 5 # size filter for punctae in um^2\n",
    "\n",
    "# Channel 2 \n",
    "thresh_C2 = 0.5 # This is the threshold for the probability maps. \n",
    "filter_minsize_C2 = 0.05 # size filter for punctae in um^2\n",
    "filter_maxsize_C2 = 5 # size filter for punctae in um^2\n",
    "\n",
    "#Saving options. CAREFUL, setting saving options to \"True\" will increase the running duration a lot (2-3 hours for full dataset)!\n",
    "save_segmentation = False\n",
    "save_segmentation_filtered = False\n",
    "save_overlayNN = False"
   ]
  },
  {
   "cell_type": "code",
   "execution_count": null,
   "id": "872478ff",
   "metadata": {},
   "outputs": [],
   "source": [
    "def mask_probability_image(prob_img, mask):\n",
    "    if prob_img.shape != mask.shape:\n",
    "        mask = resize(mask, prob_img.shape, preserve_range=True)\n",
    "    assert prob_img.shape == mask.shape\n",
    "    \n",
    "    return prob_img * mask / 255\n",
    "\n",
    "\n",
    "def threshold_probability_image(prob_img, thresh_C1=0.4, thresh_C2=0.4):\n",
    "   \n",
    "    return np.stack((prob_img[0, :, :, :] >= thresh_C1, prob_img[1, :, :, :] >= thresh_C2), axis=0)\n",
    "\n",
    "\n",
    "def create_label_imgs(bin_img):\n",
    "    label_imgs = []\n",
    "    ch1 = bin_img[0, :,  :, :]\n",
    "    ch2 = bin_img[1, :,  :, :]\n",
    "\n",
    "    \n",
    "    for frame in range(ch1.shape[0]):\n",
    "        label_img = label(ch1[frame, :, :], background=0, connectivity=1)\n",
    "        #label_img = remove_small_objects(label_img, 5)\n",
    "        label_img = fill_label_holes(label_img)\n",
    "        label_imgs.append(label_img)\n",
    "        \n",
    "    lbl_C1 = np.array(label_imgs)\n",
    "\n",
    "    label_imgs = []\n",
    "    for frame in range(ch2.shape[0]):\n",
    "        label_img = label(ch2[frame, :, :], background=0, connectivity=1)\n",
    "        label_img = remove_small_objects(label_img, 5)\n",
    "        label_img = fill_label_holes(label_img)\n",
    "        label_imgs.append(label_img)\n",
    "\n",
    "    lbl_C2 = np.array(label_imgs)\n",
    "    lbl = np.concatenate([np.expand_dims(lbl_C1, 0), np.expand_dims(lbl_C2, 0)], axis=0)\n",
    "\n",
    "    return lbl\n",
    "\n",
    "\n",
    "def get_label_props(lbl):\n",
    "    label_props = {}\n",
    "    props = {}\n",
    "    for frame in range(lbl.shape[1]):\n",
    "        props_C1 = regionprops_table(lbl[0, frame, :, :], properties=(\"label\", \"bbox\", \"centroid\", \"area\"), \n",
    "                                     spacing = (0.085, 0.085)) #spacing = (0.085, 0.085)\n",
    "        props_C2 = regionprops_table(lbl[1, frame, :, :], properties=(\"label\", \"bbox\", \"centroid\", \"area\"), \n",
    "                                     spacing = (0.085, 0.085)) #spacing = (0.085, 0.085)\n",
    "        props = {}\n",
    "        props[\"C1\"] = props_C1\n",
    "        props[\"C2\"] = props_C2\n",
    "        label_props[frame] = props\n",
    "\n",
    "    return label_props"
   ]
  },
  {
   "cell_type": "markdown",
   "id": "ca5bac0a",
   "metadata": {},
   "source": [
    "## Start of the analysis:"
   ]
  },
  {
   "cell_type": "code",
   "execution_count": null,
   "id": "f7741e32-ac3a-4e15-9d8a-eaa7a113dc4e",
   "metadata": {},
   "outputs": [],
   "source": [
    "# Load wound position file\n",
    "\n",
    "ROIs = []\n",
    "roi_folder = filepath + \"/Output_FIJI\"\n",
    "pattern = \"*ROICoordinates.csv\"\n",
    "\n",
    "for name in os.listdir(roi_folder):\n",
    "    if fnmatch(name, pattern):\n",
    "        #print(name)\n",
    "        rois = pd.read_csv(filepath + \"/Output_FIJI/\" + name, delimiter=\",\")\n",
    "        rois[\"Identifier\"] = name.split(\" ROIROI\")[0]\n",
    "        rois[\"Circle\"] = np.arange(0, rois.shape[0], 1)\n",
    "        ROIs.append(rois)\n",
    "\n",
    "df_ROIs = pd.concat(ROIs)"
   ]
  },
  {
   "cell_type": "code",
   "execution_count": null,
   "id": "e73c6d2a-9914-427e-a5c6-71b1e84bfce3",
   "metadata": {},
   "outputs": [],
   "source": [
    "# Open all Masks\n",
    "masks = []\n",
    "mask_folder = filepath + \"/Output_FIJI\"\n",
    "pattern = \"*_Mask.tiff\"\n",
    "\n",
    "for name in os.listdir(mask_folder):\n",
    "    if fnmatch(name, pattern):\n",
    "        #print(name)\n",
    "        mask = imread(os.path.join(mask_folder, name))\n",
    "        mask = mask[:, 0, :, :]\n",
    "        mask = np.expand_dims(mask, 1)\n",
    "        mask = np.repeat(mask, 2, axis=1)\n",
    "        mask = np.moveaxis(mask, 0, 1)     \n",
    "        masks.append(mask)"
   ]
  },
  {
   "cell_type": "code",
   "execution_count": null,
   "id": "adbe1b3a",
   "metadata": {},
   "outputs": [],
   "source": [
    "# Open all images\n",
    "imgs, identifiers = [], []\n",
    "C1_folder = filepath + \"/C1\"\n",
    "C2_folder = filepath + \"/C2\"\n",
    "\n",
    "for name in os.listdir(C1_folder):\n",
    "    img_C1 = imread(os.path.join(C1_folder, name))\n",
    "    name_C2 = \"C2-\" + name.split(\"C1-\")[-1]\n",
    "    img_C2 = imread(os.path.join(C2_folder, name_C2))\n",
    "    imgs.append(np.concatenate([np.expand_dims(img_C1, 0),np.expand_dims(img_C2, 0)]))\n",
    "    identifiers.append(name.split(\"C1-\")[1].split(\" ROI.tif\")[0])"
   ]
  },
  {
   "cell_type": "code",
   "execution_count": null,
   "id": "7ca618a6-18c5-4d63-b69c-be00f4024f6a",
   "metadata": {},
   "outputs": [],
   "source": [
    "## Check if all data is there\n",
    "assert len(masks) == len(imgs)"
   ]
  },
  {
   "cell_type": "markdown",
   "id": "a38318a4-a43d-4465-bb46-40cfdebdaad4",
   "metadata": {},
   "source": [
    "### 2. Data analysis"
   ]
  },
  {
   "cell_type": "code",
   "execution_count": null,
   "id": "6ab57101-d984-4f3b-a805-c022bf202ec3",
   "metadata": {},
   "outputs": [],
   "source": [
    "# Mask and theshold your image to create binary images\n",
    "binary_imgs = []\n",
    "for i in range(len(imgs)):\n",
    "    prob_img = mask_probability_image(imgs[i], masks[i])\n",
    "    bin_img = threshold_probability_image(prob_img, thresh_C1, thresh_C2)\n",
    "    binary_imgs.append(bin_img)"
   ]
  },
  {
   "cell_type": "code",
   "execution_count": null,
   "id": "abff4075-da41-4a6c-b4ae-9e6ee96262ef",
   "metadata": {},
   "outputs": [],
   "source": [
    "lbl_imgs = []\n",
    "\n",
    "for i in tqdm(range(len(binary_imgs))):\n",
    "    lbl_img = create_label_imgs(binary_imgs[i])\n",
    "    lbl_imgs.append(lbl_img)"
   ]
  },
  {
   "cell_type": "code",
   "execution_count": null,
   "id": "3489879c",
   "metadata": {},
   "outputs": [],
   "source": [
    "#Save segmentation images\n",
    "\n",
    "if save_segmentation:\n",
    "    print(\"Saving label images.\")\n",
    "    for number, lbl_image in tqdm(enumerate(lbl_imgs)):\n",
    "        newpath = filepath + f\"/{identifiers[number]}_Labels\"\n",
    "        if not os.path.exists(newpath):\n",
    "            os.makedirs(newpath)\n",
    "        tiffname = newpath + f\"/_label.tiff\"\n",
    "        tfile.imwrite(tiffname, lbl_image[:, :, :, :])"
   ]
  },
  {
   "cell_type": "code",
   "execution_count": null,
   "id": "edfa0a61-4c92-4528-8f84-97fb480e2bdf",
   "metadata": {},
   "outputs": [],
   "source": [
    "lbl_props = []\n",
    "\n",
    "for i in tqdm(range(len(lbl_imgs))):\n",
    "    lbl_prop =get_label_props(lbl_imgs[i])\n",
    "    lbl_props.append(lbl_prop)"
   ]
  },
  {
   "cell_type": "code",
   "execution_count": null,
   "id": "016de25e-ec0a-4dbc-b554-d83254995f9b",
   "metadata": {},
   "outputs": [],
   "source": [
    "list_lbl_props_C1 = []\n",
    "list_lbl_props_C2 = []\n",
    "    \n",
    "for i in range(len(lbl_props)):\n",
    "    dfs_C1, dfs_C2 = [], []\n",
    "    for frame in range(len(lbl_props[i])):\n",
    "        df_C1_ = pd.DataFrame.from_dict(lbl_props[i][frame][\"C1\"])\n",
    "        df_C1_[\"frame\"]= frame+1\n",
    "        dfs_C1.append(df_C1_)\n",
    "    for frame in range(len(lbl_props[i])):\n",
    "        df_C2_ = pd.DataFrame.from_dict(lbl_props[i][frame][\"C2\"])\n",
    "        df_C2_[\"frame\"]= frame+1\n",
    "        dfs_C2.append(df_C2_)\n",
    "\n",
    "    df_C1 = pd.concat(dfs_C1, axis=0, ignore_index=True)\n",
    "    df_C1[\"Identifier\"] = identifiers[i]\n",
    "    df_C1[\"Wound_coord_X\"] = ROIs[i].iloc[0, 3]\n",
    "    df_C1[\"Wound_coord_Y\"] = ROIs[i].iloc[0, 4]\n",
    "    df_C2 = pd.concat(dfs_C2, axis=0, ignore_index=True)\n",
    "    df_C2[\"Wound_coord_X\"] = ROIs[i].iloc[0, 3]\n",
    "    df_C2[\"Wound_coord_Y\"] = ROIs[i].iloc[0, 4]\n",
    "    df_C2[\"Identifier\"] = identifiers[i]\n",
    "\n",
    "    list_lbl_props_C1.append(df_C1)\n",
    "    list_lbl_props_C2.append(df_C2)\n",
    "\n",
    "df_lbl_props_C1 = pd.concat(list_lbl_props_C1, axis=0, ignore_index=True)\n",
    "df_lbl_props_C2 = pd.concat(list_lbl_props_C2, axis=0, ignore_index=True)"
   ]
  },
  {
   "cell_type": "code",
   "execution_count": null,
   "id": "abf31397",
   "metadata": {},
   "outputs": [],
   "source": [
    "df_lbl_props_C1.to_csv(filepath+\"\\\\\"+\"C1_punctaedata.csv\")\n",
    "df_lbl_props_C2.to_csv(filepath+\"\\\\\"+\"C2_punctaedata.csv\")"
   ]
  },
  {
   "cell_type": "code",
   "execution_count": null,
   "id": "45e41564",
   "metadata": {
    "scrolled": true
   },
   "outputs": [],
   "source": [
    "# Plot punctae sizes - Histogram - Amph1\n",
    "plt.figure(figsize=(12, 6))\n",
    "g = sns.displot(df_lbl_props_C1, x=\"area\", row=\"Identifier\", height=4)\n",
    "g.refline(x=filter_minsize_C1, color=\"red\")\n",
    "g.refline(x=filter_maxsize_C1, color=\"red\")\n",
    "g.set(xlim=(0,1))\n",
    "g.set(ylim=(0, 500))"
   ]
  },
  {
   "cell_type": "code",
   "execution_count": null,
   "id": "4d1600d3",
   "metadata": {},
   "outputs": [],
   "source": [
    "# Plot punctae sizes - Histogram\n",
    "plt.figure(figsize=(12, 6))\n",
    "g = sns.displot(df_lbl_props_C2, x=\"area\", row=\"Identifier\", height=4)\n",
    "g.refline(x=filter_minsize_C2, color=\"red\")\n",
    "g.refline(x=filter_maxsize_C2, color=\"red\")\n",
    "g.set(xlim=(0,1))\n",
    "g.set(ylim=(0, 500))"
   ]
  },
  {
   "cell_type": "code",
   "execution_count": null,
   "id": "e9d73fc6",
   "metadata": {},
   "outputs": [],
   "source": [
    "df_lbl_props_C1_backup = df_lbl_props_C1.copy()\n",
    "df_lbl_props_C2_backup = df_lbl_props_C2.copy()"
   ]
  },
  {
   "cell_type": "markdown",
   "id": "11a6f2d3-534a-4f3f-a8d0-7f7f3c2e8b4b",
   "metadata": {},
   "source": [
    "### Calculation of wound distance and circle number"
   ]
  },
  {
   "cell_type": "code",
   "execution_count": null,
   "id": "44469363-232c-4784-a80c-562888e17343",
   "metadata": {},
   "outputs": [],
   "source": [
    "df_lbl_props_C1[\"Distance\"] = (np.sqrt((df_lbl_props_C1[\"centroid-1\"]-df_lbl_props_C1[\"Wound_coord_X\"])**2 + (df_lbl_props_C1[\"centroid-0\"]-df_lbl_props_C1[\"Wound_coord_Y\"])**2))\n",
    "df_lbl_props_C2[\"Distance\"] = (np.sqrt((df_lbl_props_C2[\"centroid-1\"]-df_lbl_props_C2[\"Wound_coord_X\"])**2 + (df_lbl_props_C2[\"centroid-0\"]-df_lbl_props_C2[\"Wound_coord_Y\"])**2))\n",
    "df_lbl_props_C1[\"X_Norm\"] = abs(df_lbl_props_C1[\"centroid-1\"]-df_lbl_props_C1[\"Wound_coord_X\"])\n",
    "df_lbl_props_C1[\"Y_Norm\"] = abs(df_lbl_props_C1[\"centroid-0\"]-df_lbl_props_C1[\"Wound_coord_Y\"])\n",
    "df_lbl_props_C2[\"X_Norm\"] = abs(df_lbl_props_C2[\"centroid-1\"]-df_lbl_props_C2[\"Wound_coord_X\"])\n",
    "df_lbl_props_C2[\"Y_Norm\"] = abs(df_lbl_props_C2[\"centroid-0\"]-df_lbl_props_C2[\"Wound_coord_Y\"])"
   ]
  },
  {
   "cell_type": "code",
   "execution_count": null,
   "id": "6655cc96-1e96-4b3e-b3cb-27ee241e4b27",
   "metadata": {},
   "outputs": [],
   "source": [
    "# Circles\n",
    "circle_bins = [0, 0.85, 10.85, 20.85, 30.85, 40.85, 50.85, 60.85, 70.85]#[0, 117, 234, 351, 468, 585, 702] # Check how big circles were in original paper\n",
    "circles = list(range(0,len(circle_bins)-1))\n",
    "df_lbl_props_C1[\"Circle\"] = pd.cut(df_lbl_props_C1[\"Distance\"], bins = circle_bins, include_lowest=True, labels=circles)\n",
    "df_lbl_props_C2[\"Circle\"] = pd.cut(df_lbl_props_C2[\"Distance\"], bins = circle_bins, include_lowest=True, labels=circles)"
   ]
  },
  {
   "cell_type": "code",
   "execution_count": null,
   "id": "26a1963e-9814-4721-a78b-9359228f6cee",
   "metadata": {},
   "outputs": [],
   "source": [
    "df_lbl_props_C1.dropna(inplace=True)\n",
    "df_lbl_props_C2.dropna(inplace=True)"
   ]
  },
  {
   "cell_type": "code",
   "execution_count": null,
   "id": "48a16b46-901d-494d-aee8-02f68ed298e4",
   "metadata": {},
   "outputs": [],
   "source": [
    "df_lbl_props_C1 = pd.merge(df_lbl_props_C1, df_ROIs.loc[:, [\"Area\", \"Identifier\", \"Circle\"]], left_on= [\"Identifier\", \"Circle\"], right_on=[\"Identifier\", \"Circle\"])\n",
    "df_lbl_props_C2 = pd.merge(df_lbl_props_C2, df_ROIs.loc[:, [\"Area\", \"Identifier\", \"Circle\"]], left_on= [\"Identifier\", \"Circle\"], right_on=[\"Identifier\", \"Circle\"])"
   ]
  },
  {
   "cell_type": "code",
   "execution_count": null,
   "id": "65eb1067",
   "metadata": {},
   "outputs": [],
   "source": [
    "#Filtering of punctae with size filter\n",
    "df_lbl_props_C1 = df_lbl_props_C1[df_lbl_props_C1[\"area\"] > filter_minsize_C1]\n",
    "df_lbl_props_C1 = df_lbl_props_C1[df_lbl_props_C1[\"area\"] < filter_maxsize_C1]\n",
    "df_lbl_props_C2 = df_lbl_props_C2[df_lbl_props_C2[\"area\"] > filter_minsize_C2]\n",
    "df_lbl_props_C2 = df_lbl_props_C2[df_lbl_props_C2[\"area\"] < filter_maxsize_C2]"
   ]
  },
  {
   "cell_type": "code",
   "execution_count": null,
   "id": "c063ce45",
   "metadata": {},
   "outputs": [],
   "source": [
    "#df_lbl_props_C2.to_csv(filepath+\"\\\\\"+\"C2_punctaedata_filtered.csv\")\n",
    "#df_lbl_props_C1.to_csv(filepath+\"\\\\\"+\"C1_punctaedata_filtered.csv\")"
   ]
  },
  {
   "cell_type": "code",
   "execution_count": null,
   "id": "b66a4283",
   "metadata": {},
   "outputs": [],
   "source": [
    "if save_segmentation_filtered:\n",
    "    print(\"Creating filtered label images.\")\n",
    "\n",
    "\n",
    "    lbl_imgs_filtered = []\n",
    "\n",
    "    for i in tqdm(range(len(identifiers))):\n",
    "\n",
    "        mask_array = np.full(lbl_imgs[i].shape, False)\n",
    "        for frame in df_lbl_props_C1[(df_lbl_props_C1.Identifier == identifiers[i])].frame:\n",
    "            list_to_keep = list(df_lbl_props_C1[((df_lbl_props_C1.Identifier == identifiers[i]) & (df_lbl_props_C1.frame == frame))].label)\n",
    "            mask = np.isin(lbl_imgs[i][0, frame-1, :, :], list_to_keep)\n",
    "            mask_array[0, frame-1, :, :] = mask\n",
    "\n",
    "        for frame in df_lbl_props_C2[(df_lbl_props_C2.Identifier == identifiers[i])].frame:\n",
    "            list_to_keep = list(df_lbl_props_C2[((df_lbl_props_C2.Identifier == identifiers[i]) & (df_lbl_props_C2.frame == frame))].label)\n",
    "            mask = np.isin(lbl_imgs[i][1, frame-1, :, :], list_to_keep)\n",
    "            mask_array[1, frame-1, :, :] = mask\n",
    "    \n",
    "        result_image = np.copy(lbl_imgs[i])\n",
    "        result_image[~mask_array] = 0\n",
    "        lbl_imgs_filtered.append(result_image)"
   ]
  },
  {
   "cell_type": "code",
   "execution_count": null,
   "id": "205b3085",
   "metadata": {},
   "outputs": [],
   "source": [
    "if save_segmentation_filtered:\n",
    "    print(\"Creating filtered label images.\")\n",
    "\n",
    "    #Save filtered images\n",
    "    for number, lbl_image in tqdm(enumerate(lbl_imgs_filtered)):\n",
    "        newpath = filepath + f\"/{identifiers[number]}_Labels_filtered\"\n",
    "        if not os.path.exists(newpath):\n",
    "            os.makedirs(newpath)\n",
    "        tiffname = newpath + f\"/filtered_label.tiff\"\n",
    "        tfile.imwrite(tiffname, lbl_image[:, :, :, :])"
   ]
  },
  {
   "cell_type": "code",
   "execution_count": null,
   "id": "36ff94b3",
   "metadata": {},
   "outputs": [],
   "source": [
    "sns.countplot(data=df_lbl_props_C1, x=\"Identifier\")"
   ]
  },
  {
   "cell_type": "code",
   "execution_count": null,
   "id": "05f5bfa7",
   "metadata": {},
   "outputs": [],
   "source": [
    "sns.countplot(data=df_lbl_props_C2, x=\"Identifier\")"
   ]
  },
  {
   "cell_type": "code",
   "execution_count": null,
   "id": "bfade055",
   "metadata": {},
   "outputs": [],
   "source": [
    "df_lbl_props_C1.groupby(\"Identifier\").label.count()"
   ]
  },
  {
   "cell_type": "code",
   "execution_count": null,
   "id": "9ac372d7",
   "metadata": {},
   "outputs": [],
   "source": [
    "df_lbl_props_C2.groupby(\"Identifier\").label.count()"
   ]
  },
  {
   "cell_type": "code",
   "execution_count": null,
   "id": "bedcc204-e742-4610-87fa-740f19c61f1f",
   "metadata": {},
   "outputs": [],
   "source": [
    "# Backup of tables\n",
    "df_C1 = df_lbl_props_C1.copy()\n",
    "df_C2 = df_lbl_props_C2.copy()"
   ]
  },
  {
   "cell_type": "code",
   "execution_count": null,
   "id": "70dd368c",
   "metadata": {},
   "outputs": [],
   "source": [
    "df_pivot_C1 = df_C1.pivot_table(index=[\"Identifier\", \"Circle\"], columns=\"frame\", values=\"label\", aggfunc='count', dropna=False)\n",
    "df_pivot_C2 = df_C2.pivot_table(index=[\"Identifier\", \"Circle\"], columns=\"frame\", values=\"label\", aggfunc='count', dropna=False)"
   ]
  },
  {
   "cell_type": "code",
   "execution_count": null,
   "id": "526e19a8",
   "metadata": {},
   "outputs": [],
   "source": [
    "df_pivot_C2.loc[:, 1].fillna(value=1, inplace=True, axis=0)\n",
    "df_pivot_C1.loc[:, 1].fillna(value=1, inplace=True, axis=0)    \n",
    "df_pivot_C2.fillna(value=0, inplace=True, axis=0)\n",
    "df_pivot_C1.fillna(value=0, inplace=True, axis=0)"
   ]
  },
  {
   "cell_type": "code",
   "execution_count": null,
   "id": "ed49dee6-391f-4c24-9654-1a76b4ce8608",
   "metadata": {},
   "outputs": [],
   "source": [
    "df_pivot_C1_area = df_C1.pivot_table(index=[\"Identifier\", \"Circle\"], columns=\"frame\", values=\"Area\", aggfunc='mean', dropna=False)\n",
    "df_pivot_C2_area = df_C2.pivot_table(index=[\"Identifier\", \"Circle\"], columns=\"frame\", values=\"Area\", aggfunc='mean', dropna=False)"
   ]
  },
  {
   "cell_type": "code",
   "execution_count": null,
   "id": "d08e4e40",
   "metadata": {},
   "outputs": [],
   "source": [
    "fill_value = 2.283\n",
    "df_pivot_C1_area.loc[(slice(None), 0), :] = df_pivot_C1_area.loc[(slice(None), 0), :].fillna(fill_value)\n",
    "df_pivot_C2_area.loc[(slice(None), 0), :] = df_pivot_C2_area.loc[(slice(None), 0), :].fillna(fill_value)"
   ]
  },
  {
   "cell_type": "code",
   "execution_count": null,
   "id": "9e35be1f",
   "metadata": {},
   "outputs": [],
   "source": [
    "df_pivot_C1_area.fillna(method=\"bfill\", inplace=True, axis=1)\n",
    "df_pivot_C1_area.fillna(method=\"ffill\", inplace=True, axis=1)\n",
    "df_pivot_C2_area.fillna(method=\"bfill\", inplace=True, axis=1)\n",
    "df_pivot_C2_area.fillna(method=\"ffill\", inplace=True, axis=1)"
   ]
  },
  {
   "cell_type": "code",
   "execution_count": null,
   "id": "793c5029",
   "metadata": {},
   "outputs": [],
   "source": [
    "mean_frame_values_C2 = df_pivot_C2.groupby(level=\"Circle\", axis=0).mean()\n",
    "mean_frame_values_C1 = df_pivot_C1.groupby(level=\"Circle\", axis=0).mean()"
   ]
  },
  {
   "cell_type": "code",
   "execution_count": null,
   "id": "ce2e40c7-007d-459d-af00-bdefc717020b",
   "metadata": {},
   "outputs": [],
   "source": [
    "# Normalization to circle areas\n",
    "df_pivot_C2_norm = df_pivot_C2/df_pivot_C2_area\n",
    "df_pivot_C1_norm = df_pivot_C1/df_pivot_C1_area\n",
    "\n",
    "# Normalilzation to first frame\n",
    "df_pivot_C1_norm_2 = df_pivot_C1_norm.div(df_pivot_C1_norm.iloc[:, 0], axis=0)\n",
    "df_pivot_C2_norm_2 = df_pivot_C2_norm.div(df_pivot_C2_norm.iloc[:, 0], axis=0)"
   ]
  },
  {
   "cell_type": "code",
   "execution_count": null,
   "id": "7f4bdd54",
   "metadata": {},
   "outputs": [],
   "source": [
    "mean_frame_values_C2_norm_2= df_pivot_C2_norm_2.groupby(level=\"Circle\", axis=0).mean()\n",
    "mean_frame_values_C1_norm_2 = df_pivot_C1_norm_2.groupby(level=\"Circle\", axis=0).mean()\n",
    "#median_frame_values_C2_norm_2= df_pivot_C2_norm_2.groupby(level=\"Circle\", axis=0).median()\n",
    "#median_frame_values_C1_norm_2 = df_pivot_C1_norm_2.groupby(level=\"Circle\", axis=0).median()"
   ]
  },
  {
   "cell_type": "code",
   "execution_count": null,
   "id": "41c1fc0e",
   "metadata": {},
   "outputs": [],
   "source": [
    "# Plotting\n",
    "# We start at 0, if you want to plot frame 2 , use 1\n",
    "min_frame = 0\n",
    "max_frame = 99\n",
    "colormap = \"inferno\" # Other options: \"viridis\", \"inferno\", \"plasma\", \"magma\", \"cividis\"\n",
    "xlabel = \"Time\"\n",
    "ylabel = \"Circle\"\n",
    "legendlabel = \"Normalized events of TfR and Amph1 after wounding\"\n",
    "# https://matplotlib.org/stable/tutorials/colors/colormaps.html\n",
    "\n",
    "# cbar=False\n",
    "fig, axes = plt.subplots(nrows=1, ncols=2, figsize=(18,5), gridspec_kw={'width_ratios': [1, 1]} ) #sharey=True,\n",
    "sns.heatmap(mean_frame_values_C2.iloc[1:, min_frame:max_frame], vmin=0, vmax=math.ceil(mean_frame_values_C2.max().max()), cmap=colormap, ax=axes[0]).set_title(\"TfR\")\n",
    "sns.heatmap(mean_frame_values_C1.iloc[1:, min_frame:max_frame], vmin=0, vmax=math.ceil(mean_frame_values_C1.max().max()), cmap=colormap, ax=axes[1]).set_title(\"Amph1\")\n",
    "axes[0].set_xlabel(xlabel)\n",
    "axes[0].set_ylabel(ylabel)\n",
    "axes[1].set_xlabel(xlabel)\n",
    "axes[1].set_ylabel(ylabel)\n",
    "fig.suptitle(\"Mean Particle Counts/um^2\")\n",
    "# Saving figure\n",
    "plt.savefig(filepath+\"\\\\\"+\"ParcticleCounts.tiff\", dpi=600, transparent=True, bbox_inches=\"tight\", format=\"tiff\")"
   ]
  },
  {
   "cell_type": "code",
   "execution_count": null,
   "id": "bdedc675",
   "metadata": {},
   "outputs": [],
   "source": [
    "# Plotting\n",
    "# We start at 0, if you want to plot frame 2 , use 1\n",
    "min_frame = 0\n",
    "max_frame = 99\n",
    "colormap = \"inferno\" # Other options: \"viridis\", \"inferno\", \"plasma\", \"magma\", \"cividis\"\n",
    "xlabel = \"Time\"\n",
    "ylabel = \"Circle\"\n",
    "legendlabel = \"Normalized events of TfR and Amph1 after wounding\"\n",
    "# https://matplotlib.org/stable/tutorials/colors/colormaps.html\n",
    "\n",
    "# cbar=False\n",
    "fig, axes = plt.subplots(nrows=1, ncols=2, figsize=(18,5), gridspec_kw={'width_ratios': [1, 1]} ) #sharey=True,\n",
    "sns.heatmap(mean_frame_values_C2_norm_2.iloc[1:, min_frame:max_frame], vmin=0, vmax=math.ceil(mean_frame_values_C2_norm_2.max().max()), cmap=colormap, ax=axes[0]).set_title(\"TfR\")\n",
    "sns.heatmap(mean_frame_values_C1_norm_2.iloc[1:, min_frame:max_frame], vmin=0, vmax=math.ceil(mean_frame_values_C1_norm_2.max().max()), cmap=colormap, ax=axes[1]).set_title(\"Amph1\")\n",
    "axes[0].set_xlabel(xlabel)\n",
    "axes[0].set_ylabel(ylabel)\n",
    "axes[1].set_xlabel(xlabel)\n",
    "axes[1].set_ylabel(ylabel)\n",
    "fig.suptitle(\"Mean Particle Counts/um^2\")\n",
    "\n",
    "# Saving figure\n",
    "plt.savefig(filepath+\"\\\\\"+\"ParcticleCounts_norm.tiff\", dpi=600, transparent=True, bbox_inches=\"tight\", format=\"tiff\")"
   ]
  },
  {
   "cell_type": "markdown",
   "id": "1a3f9ac5-3480-42ae-bbc4-af9567792180",
   "metadata": {},
   "source": [
    "## Density Plots\n",
    "\n",
    "Those density plots are basically histograms that plot the distribution of the punctae. The difference is:\n",
    "A histogram aims to approximate the underlying probability density function that generated the data by binning and counting observations. Kernel density estimation (KDE) presents a different solution to the same problem. Rather than using discrete bins, a KDE plot smooths the observations with a Gaussian kernel, producing a continuous density estimate. \n",
    "\n"
   ]
  },
  {
   "cell_type": "code",
   "execution_count": null,
   "id": "48e96054-70cf-42a2-bd24-8eadfb191d6c",
   "metadata": {},
   "outputs": [],
   "source": [
    "# Timepoint of maximum count:\n",
    "print(f\"Amph-1: {df_C1.groupby('frame').count().label.idxmax()}\")\n",
    "print(f\"TfR: {df_C2.groupby('frame').count().label.idxmax()}\")"
   ]
  },
  {
   "cell_type": "markdown",
   "id": "2234322c-560c-489b-b4d5-bb2f3630a99d",
   "metadata": {},
   "source": [
    "### Density plot - Normalized distance to wound\n",
    "Here, the density of the punctae based on the normalized distance to the wound (basically wound coordinates are set to (0,0)) are plotted"
   ]
  },
  {
   "cell_type": "code",
   "execution_count": null,
   "id": "7282c70a-c4b6-4198-8b4d-1955f6fbe1ca",
   "metadata": {},
   "outputs": [],
   "source": [
    "circle1 = plt.Circle((0, 0), 11, color='w', fill=False, clip_on=True)\n",
    "circle2 = plt.Circle((0, 0), 21, color='w', fill=False, clip_on=True)\n",
    "circle3 = plt.Circle((0, 0), 31, color='w', fill=False, clip_on=True)\n",
    "circle4 = plt.Circle((0, 0), 41, color='w', fill=False, clip_on=True)\n",
    "circle5 = plt.Circle((0, 0), 51, color='w', fill=False, clip_on=True)\n",
    "circle6 = plt.Circle((0, 0), 61, color='w', fill=False, clip_on=True)\n",
    "circle11 = plt.Circle((0, 0), 11, color='w', fill=False, clip_on=True)\n",
    "circle22 = plt.Circle((0, 0), 21, color='w', fill=False, clip_on=True)\n",
    "circle33 = plt.Circle((0, 0), 31, color='w', fill=False, clip_on=True)\n",
    "circle44 = plt.Circle((0, 0), 41, color='w', fill=False, clip_on=True)\n",
    "circle55 = plt.Circle((0, 0), 51, color='w', fill=False, clip_on=True)\n",
    "circle66 = plt.Circle((0, 0), 61, color='w', fill=False, clip_on=True)\n",
    "\n",
    "fig, axes = plt.subplots(nrows=1, ncols=2, figsize=(16,8))\n",
    "sns.kdeplot(x=df_C2.X_Norm, y=df_C2.Y_Norm, fill=True, cmap=\"inferno\", ax=axes[0]).set_title(\"TfR\")\n",
    "sns.kdeplot(x=df_C1.X_Norm, y=df_C1.Y_Norm, fill=True, cmap=\"inferno\", ax=axes[1]).set_title(\"Amph-1\")\n",
    "axes[0].set_facecolor((0,0,0))\n",
    "axes[0].add_patch(circle1)\n",
    "axes[0].add_patch(circle2)\n",
    "axes[0].add_patch(circle3)\n",
    "axes[0].add_patch(circle4)\n",
    "axes[0].add_patch(circle5)\n",
    "axes[0].add_patch(circle6)\n",
    "axes[1].set_facecolor((0,0,0))\n",
    "axes[1].add_patch(circle11)\n",
    "axes[1].add_patch(circle22)\n",
    "axes[1].add_patch(circle33)\n",
    "axes[1].add_patch(circle44)\n",
    "axes[1].add_patch(circle55)\n",
    "axes[1].add_patch(circle66)\n",
    "axes[0].set_xlim(0,60)\n",
    "axes[0].set_ylim(0,60)\n",
    "axes[1].set_xlim(0,60)\n",
    "axes[1].set_ylim(0,60)\n",
    "\n",
    "# Saving figure\n",
    "plt.savefig(filepath+\"\\\\\"+\"DensityPlots_XY.tiff\", dpi=600, transparent=True, bbox_inches=\"tight\", format=\"tiff\")"
   ]
  },
  {
   "cell_type": "markdown",
   "id": "494bb3dd-5714-42e2-8be2-4ce8530fe6bf",
   "metadata": {},
   "source": [
    "# Nearest Neighbor distance\n",
    "\n",
    "We calculate the distance for all particles in circle 1  (first circle after the small wound circle) in the TfR channel to the distances of the Amph particles for each individual frame.\n",
    "\n",
    "If the Amph1 particles accumulate at the wound, the distance will become shorter over time."
   ]
  },
  {
   "cell_type": "code",
   "execution_count": null,
   "id": "1a79efa9-4a6a-48c2-bc5a-1d0773e79d83",
   "metadata": {},
   "outputs": [],
   "source": [
    "# Clean up the tables\n",
    "df_C1.dropna(inplace=True) \n",
    "df_C1.reset_index(inplace=True)\n",
    "df_C2.dropna(inplace=True)\n",
    "df_C2.reset_index(inplace=True)\n",
    "print(df_C1[\"Circle\"].unique())\n",
    "print(df_C2[\"Circle\"].unique())"
   ]
  },
  {
   "cell_type": "code",
   "execution_count": null,
   "id": "33b40d92",
   "metadata": {},
   "outputs": [],
   "source": [
    "def find_NN(df_C2_filtered, df_C1):\n",
    "    nn = pd.DataFrame()\n",
    "    nn_df = pd.DataFrame()\n",
    "    list_alldistances= []\n",
    "    gb_C2 = df_C2_filtered.groupby(\"Identifier\")\n",
    "    gb_C1 = df_C1.groupby(\"Identifier\")\n",
    "\n",
    "    nn_list = []\n",
    "    for group in df_C2_filtered[\"Identifier\"].unique():\n",
    "        print(group)\n",
    "        list_nn = []\n",
    "        dict_dist, dict_indi = {}, {}\n",
    "        group_C1 = gb_C1.get_group(group)\n",
    "        group_C2 = gb_C2.get_group(group)    \n",
    "        #print(f\"C1:{group_C1.shape}\")\n",
    "        #print(f\"C2:{group_C2.shape}\")\n",
    "    \n",
    "        for frame in range(group_C1.frame.max()):\n",
    "            nn = pd.DataFrame()    \n",
    "            try:\n",
    "                tree = KDTree(group_C1[group_C1.frame == frame+1].iloc[:, 6:8])\n",
    "                distances, indices = tree.query(group_C2.iloc[:, 6:8], 1)\n",
    "                nn = group_C1[(group_C1.frame == frame+1)].iloc[list(indices.flatten())]\n",
    "                nn[\"Particle_C2\"] = list(group_C2.label)\n",
    "                nn[\"Particle_C2_X\"] = list(group_C2[\"centroid-1\"])\n",
    "                nn[\"Particle_C2_Y\"] = list(group_C2[\"centroid-0\"])\n",
    "                nn[\"Distance_NN\"] = list(distances.flatten())\n",
    "                nn_list.append(nn)\n",
    "            except:\n",
    "                print(f\"No particles in Frame {frame}\")\n",
    "    nn_df = pd.concat(nn_list)\n",
    "    \n",
    "    return nn_df"
   ]
  },
  {
   "cell_type": "markdown",
   "id": "a6453d35",
   "metadata": {},
   "source": [
    "# Circle 1"
   ]
  },
  {
   "cell_type": "code",
   "execution_count": null,
   "id": "ba31c443-796e-4bc2-b50d-70dfb2a7d1cc",
   "metadata": {},
   "outputs": [],
   "source": [
    "# Filtering:\n",
    "# TfR 3 - 10\n",
    "df_C2_filtered = df_C2[(df_C2.frame > 2) & (df_C2.frame < 11)]\n",
    "df_C2_filtered_Circle1 = df_C2_filtered[(df_C2_filtered.Circle < 2)]"
   ]
  },
  {
   "cell_type": "code",
   "execution_count": null,
   "id": "42a7c304",
   "metadata": {},
   "outputs": [],
   "source": [
    "nn_df_circle1 = find_NN(df_C2_filtered_Circle1, df_C1)\n",
    "nn_df_circle1.to_csv(filepath+\"\\\\\"+\"Circle1_NN.csv\")"
   ]
  },
  {
   "cell_type": "code",
   "execution_count": null,
   "id": "e00c6f9a",
   "metadata": {},
   "outputs": [],
   "source": [
    "pivot_nn = pd.pivot_table(data=nn_df_circle1, index=\"frame\", columns=\"Identifier\", values=\"Distance_NN\", aggfunc='mean', dropna=False)\n",
    "pivot_nn_norm_circle1 = pivot_nn/pivot_nn.iloc[0, :]\n",
    "pivot_nn_norm_circle1[\"frame\"] = pivot_nn_norm_circle1.index\n",
    "pivot_nn_norm.to_csv(filepath+\"\\\\\"+\"Circle1_Normalized_NN.csv\")\n",
    "nn_norm_circle1 = pd.melt(pivot_nn_norm_circle1, id_vars=\"frame\" )\n",
    "\n",
    "# Plot NN Distance\n",
    "sns.lineplot(data=nn_norm_circle1, x=\"frame\", y=\"value\", estimator=\"mean\", err_style=\"band\", errorbar=(\"se\"))\n",
    "plt.ylabel(\"Nearest Neighbor Distance\")\n",
    "plt.xlabel(\"Frame\")\n",
    "plt.title(\"Circle 1\")\n",
    "\n",
    "plt.savefig(filepath+\"\\\\\"+\"NN_LinePlot_Circle1.tiff\", dpi=600, transparent=True, bbox_inches=\"tight\", format=\"tiff\")"
   ]
  },
  {
   "cell_type": "markdown",
   "id": "808b67ad",
   "metadata": {},
   "source": [
    "# Circle 1 and 2"
   ]
  },
  {
   "cell_type": "code",
   "execution_count": null,
   "id": "657bd073",
   "metadata": {},
   "outputs": [],
   "source": [
    "# Filtering:\n",
    "# TfR 3 - 10\n",
    "df_C2_filtered = df_C2[(df_C2.frame > 2) & (df_C2.frame < 11)]\n",
    "df_C2_filtered_Circle12 = df_C2_filtered[(df_C2_filtered.Circle < 3)]\n",
    "nn_df_circle12 = find_NN(df_C2_filtered_Circle12, df_C1)\n",
    "nn_df_circle12.to_csv(filepath+\"\\\\\"+\"Circle12_NN.csv\")"
   ]
  },
  {
   "cell_type": "code",
   "execution_count": null,
   "id": "2f90667b",
   "metadata": {},
   "outputs": [],
   "source": [
    "pivot_nn = pd.pivot_table(data=nn_df_circle12, index=\"frame\", columns=\"Identifier\", values=\"Distance_NN\", aggfunc='mean', dropna=False)\n",
    "pivot_nn_norm_circle = pivot_nn/pivot_nn.iloc[0, :]\n",
    "pivot_nn_norm_circle[\"frame\"] = pivot_nn_norm_circle.index\n",
    "pivot_nn_norm.to_csv(filepath+\"\\\\\"+\"Circle12_Normalized_NN.csv\")\n",
    "nn_norm_circle12 = pd.melt(pivot_nn_norm_circle, id_vars=\"frame\" )\n",
    "\n",
    "#Plot NN Distance\n",
    "sns.lineplot(data=nn_norm_circle12, x=\"frame\", y=\"value\", estimator=\"mean\", err_style=\"band\", errorbar=(\"se\"))\n",
    "plt.ylabel(\"Nearest Neighbor Distance\")\n",
    "plt.xlabel(\"Frame\")\n",
    "plt.title(\"Circle 1 and 2\")\n",
    "\n",
    "plt.savefig(filepath+\"\\\\\"+\"NN_LinePlot_Circle12.tiff\", dpi=600, transparent=True, bbox_inches=\"tight\", format=\"tiff\")"
   ]
  },
  {
   "cell_type": "markdown",
   "id": "1c5c6e79",
   "metadata": {},
   "source": [
    "# Circle 2"
   ]
  },
  {
   "cell_type": "code",
   "execution_count": null,
   "id": "4a6bb72d",
   "metadata": {},
   "outputs": [],
   "source": [
    "# Filtering:\n",
    "# TfR 3 - 10\n",
    "df_C2_filtered = df_C2[(df_C2.frame > 2) & (df_C2.frame < 11)]\n",
    "df_C2_filtered_Circle2 = df_C2_filtered[(df_C2_filtered.Circle > 1) & (df_C2_filtered.Circle < 3)]"
   ]
  },
  {
   "cell_type": "code",
   "execution_count": null,
   "id": "8192198b",
   "metadata": {},
   "outputs": [],
   "source": [
    "nn_df_circle2 = find_NN(df_C2_filtered_Circle2, df_C1)\n",
    "nn_df_circle2.to_csv(filepath+\"\\\\\"+\"Circle2_NN.csv\")"
   ]
  },
  {
   "cell_type": "code",
   "execution_count": null,
   "id": "ba692fb7",
   "metadata": {},
   "outputs": [],
   "source": [
    "pivot_nn = pd.pivot_table(data=nn_df_circle2, index=\"frame\", columns=\"Identifier\", values=\"Distance_NN\", aggfunc='mean', dropna=False)\n",
    "pivot_nn_norm = pivot_nn/pivot_nn.iloc[0, :]\n",
    "pivot_nn_norm[\"frame\"] = pivot_nn_norm.index\n",
    "pivot_nn_norm.to_csv(filepath+\"\\\\\"+\"Circle2_Normalized_NN.csv\")\n",
    "nn_norm_circle2 = pd.melt(pivot_nn_norm, id_vars=\"frame\")\n",
    "\n",
    "sns.lineplot(data=nn_norm_circle2, x=\"frame\", y=\"value\", estimator=\"mean\", err_style=\"band\", errorbar=(\"se\"))\n",
    "plt.ylabel(\"Nearest Neighbor Distance\")\n",
    "plt.xlabel(\"Frame\")\n",
    "plt.title(\"Circle 6\")\n",
    "\n",
    "plt.savefig(filepath+\"\\\\\"+\"NN_LinePlot_Circle2.tiff\", dpi=600, transparent=True, bbox_inches=\"tight\", format=\"tiff\")"
   ]
  },
  {
   "cell_type": "markdown",
   "id": "62338017",
   "metadata": {},
   "source": [
    "# Circle 6"
   ]
  },
  {
   "cell_type": "code",
   "execution_count": null,
   "id": "2e6902b1-9915-4be8-b6e0-4bfcb82e0976",
   "metadata": {},
   "outputs": [],
   "source": [
    "# Filtering:\n",
    "# TfR 3 - 10\n",
    "df_C2_filtered = df_C2[(df_C2.frame > 2) & (df_C2.frame < 11)]\n",
    "df_C2_filtered_Circle6 = df_C2_filtered[(df_C2_filtered.Circle > 4) & (df_C2_filtered.Circle < 6)]"
   ]
  },
  {
   "cell_type": "code",
   "execution_count": null,
   "id": "124d330b-f26c-4dbe-aa41-3139de6dc6b3",
   "metadata": {
    "scrolled": true
   },
   "outputs": [],
   "source": [
    "nn_df_circle6 = find_NN(df_C2_filtered_Circle6, df_C1)\n",
    "nn_df_circle6.to_csv(filepath+\"\\\\\"+\"Circle6_NN.csv\")"
   ]
  },
  {
   "cell_type": "code",
   "execution_count": null,
   "id": "8104fdfe",
   "metadata": {
    "scrolled": true
   },
   "outputs": [],
   "source": [
    "pivot_nn = pd.pivot_table(data=nn_df_circle6, index=\"frame\", columns=\"Identifier\", values=\"Distance_NN\", aggfunc='mean', dropna=False)\n",
    "pivot_nn_norm = pivot_nn/pivot_nn.iloc[0, :]\n",
    "pivot_nn_norm[\"frame\"] = pivot_nn_norm.index\n",
    "pivot_nn_norm.to_csv(filepath+\"\\\\\"+\"Circle6_Normalized_NN.csv\")\n",
    "nn_norm_circle6 = pd.melt(pivot_nn_norm, id_vars=\"frame\")\n",
    "\n",
    "sns.lineplot(data=nn_norm_circle6, x=\"frame\", y=\"value\", estimator=\"mean\", err_style=\"band\", errorbar=(\"se\"))\n",
    "plt.ylabel(\"Nearest Neighbor Distance\")\n",
    "plt.xlabel(\"Frame\")\n",
    "plt.title(\"Circle 6\")\n",
    "\n",
    "plt.savefig(filepath+\"\\\\\"+\"NN_LinePlot_Circle6.tiff\", dpi=600, transparent=True, bbox_inches=\"tight\", format=\"tiff\")"
   ]
  },
  {
   "cell_type": "markdown",
   "id": "e53fb47d",
   "metadata": {},
   "source": [
    "### Overlay NN Distances for different circles"
   ]
  },
  {
   "cell_type": "code",
   "execution_count": null,
   "id": "852a170d",
   "metadata": {},
   "outputs": [],
   "source": [
    "sns.lineplot(data=nn_df_circle1[nn_df_circle1.frame > 2], x=\"frame\", y=\"Distance_NN\", estimator=\"mean\", err_style=\"band\", errorbar=(\"se\"))\n",
    "#sns.lineplot(data=nn_df_circle6[nn_df_circle12.frame > 2], x=\"frame\", y=\"Distance_NN\", estimator=\"mean\", err_style=\"band\", errorbar=(\"se\"))\n",
    "sns.lineplot(data=nn_df_circle6[nn_df_circle6.frame > 2], x=\"frame\", y=\"Distance_NN\", estimator=\"mean\", err_style=\"band\", errorbar=(\"se\"))\n",
    "plt.title(\"Nearest Neighbor Distances\")\n",
    "plt.ylabel(\"Nearest Neighbor Distance\")\n",
    "plt.xlabel(\"Frame\")\n",
    "\n",
    "plt.savefig(filepath+\"\\\\\"+\"NN_LinePlots_Circles.tiff\", dpi=600, transparent=True, bbox_inches=\"tight\", format=\"tiff\")"
   ]
  },
  {
   "cell_type": "code",
   "execution_count": null,
   "id": "0f561fb1",
   "metadata": {
    "scrolled": true
   },
   "outputs": [],
   "source": [
    "sns.lineplot(data=nn_norm_circle6, x=\"frame\", y=\"value\", estimator=\"median\", err_style=\"band\", errorbar=(\"se\"))\n",
    "sns.lineplot(data=nn_norm_circle12, x=\"frame\", y=\"value\", estimator=\"median\", err_style=\"band\", errorbar=(\"se\"))\n",
    "sns.lineplot(data=nn_norm_circle1, x=\"frame\", y=\"value\", estimator=\"median\", err_style=\"band\", errorbar=(\"se\"))\n",
    "sns.lineplot(data=nn_norm_circle2, x=\"frame\", y=\"value\", estimator=\"median\", err_style=\"band\", errorbar=(\"se\"))\n",
    "\n",
    "plt.title(\"Normalized Nearest Neighbor Distances\")\n",
    "plt.ylabel(\"Nearest Neighbor Distance\")\n",
    "plt.xlabel(\"Frame\")\n",
    "\n",
    "plt.savefig(filepath+\"\\\\\"+\"NN_NormalizedLinePlots_Circles.tiff\", dpi=600, transparent=True, bbox_inches=\"tight\", format=\"tiff\")"
   ]
  },
  {
   "cell_type": "markdown",
   "id": "fd9ea77c",
   "metadata": {},
   "source": [
    "### Graphical representation"
   ]
  },
  {
   "cell_type": "markdown",
   "id": "e0051786",
   "metadata": {},
   "source": [
    "### Circle 1"
   ]
  },
  {
   "cell_type": "code",
   "execution_count": null,
   "id": "a9d272c9",
   "metadata": {},
   "outputs": [],
   "source": [
    "for ident in tqdm(range(len(identifiers))):\n",
    "    nn_df_1 = nn_df_circle1[nn_df_circle1.Identifier == identifiers[ident]]\n",
    "    df_C2_1 = df_C2_filtered_Circle1[df_C2_filtered_Circle1.Identifier == identifiers[ident]]\n",
    "    \n",
    "    nn_df_6 = nn_df_circle6[nn_df_circle6.Identifier == identifiers[ident]]\n",
    "    df_C2_6 = df_C2_filtered_Circle6[df_C2_filtered_Circle6.Identifier == identifiers[ident]]\n",
    "    \n",
    "    fig, axes = plt.subplots(nrows=1, ncols=2, figsize=(15,8), sharex=True, sharey=True)\n",
    "    sns.scatterplot(x=nn_df_1[\"centroid-1\"], y=nn_df_1[\"centroid-0\"], hue=nn_df_1[\"frame\"], palette=\"viridis\", \n",
    "                    legend=False, ax=axes[0])\n",
    "    sns.scatterplot(x=df_C2_1[\"centroid-1\"], y=df_C2_1[\"centroid-0\"], marker=\"D\", color=\"magenta\", s=60, ax=axes[0])\n",
    "    sns.scatterplot(x=df_C2_1[\"Wound_coord_X\"], y=df_C2_1[\"Wound_coord_Y\"], marker=\"x\", color=\"black\", s=100, ax=axes[0])\n",
    "    \n",
    "    sns.scatterplot(x=nn_df_6[\"centroid-1\"], y=nn_df_6[\"centroid-0\"], hue=nn_df_6[\"frame\"], palette=\"viridis\", \n",
    "                    legend=True, ax=axes[1])\n",
    "    sns.scatterplot(x=df_C2_6[\"centroid-1\"], y=df_C2_6[\"centroid-0\"], marker=\"D\", color=\"magenta\", s=60, ax=axes[1])\n",
    "    sns.scatterplot(x=df_C2_6[\"Wound_coord_X\"], y=df_C2_6[\"Wound_coord_Y\"], marker=\"x\", color=\"black\", s=100, ax=axes[1])\n",
    "    \n",
    "    \n",
    "    plt.legend(loc=(1.04, 0.70))\n",
    "    fig.suptitle(f\"Distribution of Circle 1 and 6 and NearestNeighbors from {ident}\") \n",
    "    plt.savefig(f\"{filepath}\\\\NN_Circle1_{ident}.tiff\", dpi=600, transparent=True, bbox_inches=\"tight\", format=\"tiff\")"
   ]
  },
  {
   "cell_type": "markdown",
   "id": "54ccae48",
   "metadata": {},
   "source": [
    "### Circle 1 - 2"
   ]
  },
  {
   "cell_type": "code",
   "execution_count": null,
   "id": "5c1f2bda",
   "metadata": {},
   "outputs": [],
   "source": [
    "for ident in tqdm(range(len(identifiers))):\n",
    "    nn_df_12 = nn_df_circle12[nn_df_circle12.Identifier == identifiers[ident]]\n",
    "    df_C2_12 = df_C2_filtered_Circle12[df_C2_filtered_Circle12.Identifier == identifiers[ident]]\n",
    "    \n",
    "    nn_df_6 = nn_df_circle6[nn_df_circle6.Identifier == identifiers[ident]]\n",
    "    df_C2_6 = df_C2_filtered_Circle6[df_C2_filtered_Circle6.Identifier == identifiers[ident]]\n",
    "    fig, axes = plt.subplots(nrows=1, ncols=2, figsize=(15,8), sharex=True, sharey=True)\n",
    "    sns.scatterplot(x=nn_df_12[\"centroid-1\"], y=nn_df_12[\"centroid-0\"], hue=nn_df_12[\"frame\"], palette=\"viridis\", \n",
    "                    legend=False, ax=axes[0])\n",
    "    sns.scatterplot(x=df_C2_12[\"centroid-1\"], y=df_C2_12[\"centroid-0\"], marker=\"D\", color=\"magenta\", s=60, ax=axes[0])\n",
    "    sns.scatterplot(x=df_C2_12[\"Wound_coord_X\"], y=df_C2_12[\"Wound_coord_Y\"], marker=\"x\", color=\"black\", s=100, ax=axes[0])\n",
    "    \n",
    "    sns.scatterplot(x=nn_df_6[\"centroid-1\"], y=nn_df_6[\"centroid-0\"], hue=nn_df_6[\"frame\"], palette=\"viridis\", \n",
    "                    legend=True, ax=axes[1])\n",
    "    sns.scatterplot(x=df_C2_6[\"centroid-1\"], y=df_C2_6[\"centroid-0\"], marker=\"D\", color=\"magenta\", s=60, ax=axes[1])\n",
    "    sns.scatterplot(x=df_C2_6[\"Wound_coord_X\"], y=df_C2_6[\"Wound_coord_Y\"], marker=\"x\", color=\"black\", s=100, ax=axes[1])\n",
    "    \n",
    "    \n",
    "    plt.legend(loc=(1.04, 0.70))\n",
    "    fig.suptitle(f\"Distribution of Circle 1+2 and 6 and NearestNeighbors from {ident}\")       \n",
    "    plt.savefig(f\"{filepath}\\\\NN_Circle12_{ident}.tiff\", dpi=600, transparent=True, bbox_inches=\"tight\", format=\"tiff\")"
   ]
  },
  {
   "cell_type": "markdown",
   "id": "fa4e7fb2",
   "metadata": {},
   "source": [
    "### Movie representation of NNs"
   ]
  },
  {
   "cell_type": "code",
   "execution_count": null,
   "id": "79644d18",
   "metadata": {},
   "outputs": [],
   "source": [
    "if save_overlayNN:\n",
    "    print(\"Creating and saving overlay images\")\n",
    "# Inner loop: schreib alle striche pro frame, setze das Bild dann an die richtige frame stelle im Array, bild löschen\n",
    "    oneframe_lines = np.zeros((1220, 1220))\n",
    "    linelist = []\n",
    "    for ident in tqdm(range(len(identifiers))):\n",
    "        nn_df = nn_df_circle1[nn_df_circle1.Identifier == identifiers[ident]]\n",
    "        framelist = []\n",
    "        for f in range(101):#nn_df.frame.unique():\n",
    "            C1_y = nn_df[nn_df[\"frame\"] == f][\"centroid-0\"]\n",
    "            C1_x = nn_df[nn_df[\"frame\"] == f][\"centroid-1\"]\n",
    "            C2_y = nn_df[nn_df[\"frame\"] == f][\"Particle_C2_Y\"]\n",
    "            C2_x = nn_df[nn_df[\"frame\"] == f][\"Particle_C2_X\"]\n",
    "            oneframe = np.zeros((1220, 1220))\n",
    "    \n",
    "            for i in range(C1_y.shape[0]):\n",
    "                try:\n",
    "                    oneframe_lines = cv2.line(oneframe, (int(C1_x.iloc[i]/0.085), int(C1_y.iloc[i]/0.085)), \n",
    "                            (int(C2_x.iloc[i]/0.085), int(C2_y.iloc[i]/0.085)), color = (255, 255, 255), thickness=1, lineType=8)\n",
    "                except:\n",
    "                    oneframe_lines = np.zeros((1220, 1220))\n",
    "            framelist.append(oneframe_lines)\n",
    "        lines = np.array(framelist[1:])  \n",
    "        linelist.append(lines)\n",
    "    \n",
    "    \n",
    "    merged_imgs = []\n",
    "    for number, lbl_img_filtered in tqdm(enumerate(lbl_imgs_filtered)):\n",
    "        max_img = np.max(lbl_img_filtered[1, 2:11, :, :], axis=0)\n",
    "        max_img_rep = np.repeat(max_img[np.newaxis, :, :], 100, axis=0)\n",
    "        merged_img = np.stack((max_img_rep, lbl_img_filtered[0, :, :, :], linelist[number]), axis=0)\n",
    "        merged_imgs.append(merged_img)\n",
    "    \n",
    "    for number, merged_image in tqdm(enumerate(merged_imgs)):\n",
    "        newpath = filepath + f\"/{identifiers[number]}_LabelLines\"\n",
    "        if not os.path.exists(newpath):\n",
    "            os.makedirs(newpath)\n",
    "        tiffname = newpath + f\"/lines.tiff\"\n",
    "        tfile.imwrite(tiffname, merged_image[:, :, :, :])"
   ]
  }
 ],
 "metadata": {
  "kernelspec": {
   "display_name": "Python (Calculations)",
   "language": "python",
   "name": "calculations"
  },
  "language_info": {
   "codemirror_mode": {
    "name": "ipython",
    "version": 3
   },
   "file_extension": ".py",
   "mimetype": "text/x-python",
   "name": "python",
   "nbconvert_exporter": "python",
   "pygments_lexer": "ipython3",
   "version": "3.8.18"
  }
 },
 "nbformat": 4,
 "nbformat_minor": 5
}
